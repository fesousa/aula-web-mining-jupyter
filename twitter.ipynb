{
 "cells": [
  {
   "cell_type": "code",
   "execution_count": null,
   "metadata": {},
   "outputs": [],
   "source": [
    "import tweepy\n",
    "import autenticacao\n",
    "\n",
    "auth = tweepy.OAuthHandler(CONSUMER_KEY, CONSUMER_SECRET)\n",
    "\n",
    "auth.set_access_token(ACCESS_TOKEN, ACCESS_TOKEN_SECRET)\n",
    "\n",
    "api = tweepy.API(auth)    \n",
    "\n",
    "# tweets da timeline\n",
    "for status in tweepy.Cursor(api.home_timeline).items(10):\n",
    "    print(status.text)\n",
    "\n",
    "# pesquisar tweets de um usuario\n",
    "for status in tweepy.Cursor(api.user_timeline, id=\"twitter\").items(10):\n",
    "    # process status here\n",
    "    print(status.text)\n",
    "    \n",
    "# buscar por termos\n",
    "for status in tweepy.Cursor(api.search, q='eleições').items(10):\n",
    "    # process status here\n",
    "    print(status.text)\n",
    "\n",
    "# monitorar tweets\n",
    "class MyStreamListener(tweepy.StreamListener):\n",
    "\n",
    "    def on_status(self, status):\n",
    "       print(status.text)\n",
    "\n",
    "    def on_error(self, status_code):\n",
    "       \n",
    "        print('Erro: ' + repr(status_code))\n",
    "        \n",
    "myStreamListener = MyStreamListener(api=tweepy.API(wait_on_rate_limit=True))\n",
    "myStream = tweepy.Stream(auth = api.auth, listener=myStreamListener)\n",
    "try:\n",
    "    myStream.filter(track=['eleições'])\n",
    "except:\n",
    "    pass\n",
    "\n"
   ]
  },
  {
   "cell_type": "code",
   "execution_count": null,
   "metadata": {},
   "outputs": [],
   "source": []
  },
  {
   "cell_type": "code",
   "execution_count": null,
   "metadata": {},
   "outputs": [],
   "source": []
  }
 ],
 "metadata": {
  "kernelspec": {
   "display_name": "Python 3",
   "language": "python",
   "name": "python3"
  },
  "language_info": {
   "codemirror_mode": {
    "name": "ipython",
    "version": 3
   },
   "file_extension": ".py",
   "mimetype": "text/x-python",
   "name": "python",
   "nbconvert_exporter": "python",
   "pygments_lexer": "ipython3",
   "version": "3.6.5"
  }
 },
 "nbformat": 4,
 "nbformat_minor": 2
}
