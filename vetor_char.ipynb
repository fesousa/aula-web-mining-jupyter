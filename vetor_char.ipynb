{
 "cells": [
  {
   "cell_type": "markdown",
   "metadata": {},
   "source": [
    "# Extração do vetor de características\n",
    "## Tokenizaçao e contagem de palavras"
   ]
  },
  {
   "cell_type": "code",
   "execution_count": 90,
   "metadata": {},
   "outputs": [],
   "source": [
    "# importaçÕes necessárias\n",
    "from sklearn.feature_extraction.text import TfidfVectorizer\n",
    "import os\n",
    "import nltk\n",
    "\n",
    "import html\n",
    "from bs4 import BeautifulSoup\n",
    "import pandas as pd\n",
    "from sklearn import tree, naive_bayes\n",
    "from sklearn.model_selection import train_test_split\n",
    "from sklearn.metrics import accuracy_score, precision_recall_fscore_support, confusion_matrix\n",
    "from sklearn.model_selection import cross_val_predict"
   ]
  },
  {
   "cell_type": "code",
   "execution_count": null,
   "metadata": {},
   "outputs": [],
   "source": [
    "# instalar stemmer português no nltk\n",
    "nltk.download('rslp')"
   ]
  },
  {
   "cell_type": "code",
   "execution_count": null,
   "metadata": {},
   "outputs": [],
   "source": [
    "# função para ler os arquivos e retornar em uma lista\n",
    "def retorna_conteudo(pasta):\n",
    "    lista_conteudos = []\n",
    "    for arquivo in os.listdir(os.getcwd()+'/'+pasta):\n",
    "        with open(pasta+'/'+arquivo, 'r', encoding=\"utf8\") as arq:\n",
    "            lista_conteudos.append(arq.read())\n",
    "    return lista_conteudos"
   ]
  },
  {
   "cell_type": "code",
   "execution_count": null,
   "metadata": {},
   "outputs": [],
   "source": [
    "lista_conteudos = retorna_conteudo('wikis_text')"
   ]
  },
  {
   "cell_type": "code",
   "execution_count": null,
   "metadata": {},
   "outputs": [],
   "source": [
    "# extrair contagem de palavras com a configuração padrão\n",
    "# extrair ocorrência binária\n",
    "contagem = TfidfVectorizer()\n",
    "\n",
    "vetor = contagem.fit_transform(lista_conteudos)\n",
    "#nomes das características\n",
    "print(contagem.get_feature_names())\n",
    "# vetor de caractrísticas\n",
    "print(vetor.toarray())"
   ]
  },
  {
   "cell_type": "code",
   "execution_count": null,
   "metadata": {},
   "outputs": [],
   "source": [
    "# extrair ocorrência binária\n",
    "bo = TfidfVectorizer(binary=True, norm=None, use_idf=False)\n",
    "\n",
    "vetor = bo.fit_transform(lista_conteudos)\n",
    "#nomes das características\n",
    "print(bo.get_feature_names())\n",
    "# vetor de caractrísticas\n",
    "print(vetor.toarray())"
   ]
  },
  {
   "cell_type": "code",
   "execution_count": null,
   "metadata": {},
   "outputs": [],
   "source": [
    "# extrair com ocorrência dos termos\n",
    "to = TfidfVectorizer(binary=False, norm=None, use_idf=False)\n",
    "\n",
    "vetor = to.fit_transform(lista_conteudos)\n",
    "#nomes das características\n",
    "print(to.get_feature_names())\n",
    "# vetor de caractrísticas\n",
    "print(vetor.toarray())"
   ]
  },
  {
   "cell_type": "code",
   "execution_count": null,
   "metadata": {},
   "outputs": [],
   "source": [
    "# extrair com tf\n",
    "tf = TfidfVectorizer(binary=False,norm='l1', use_idf=False)\n",
    "\n",
    "vetor = tf.fit_transform(lista_conteudos)\n",
    "#nomes das características\n",
    "print(tf.get_feature_names())\n",
    "# vetor de caractrísticas\n",
    "print(vetor.toarray())"
   ]
  },
  {
   "cell_type": "code",
   "execution_count": null,
   "metadata": {},
   "outputs": [],
   "source": [
    "# extrair com tf.idf\n",
    "tfidf = TfidfVectorizer(binary=False,norm='l1', use_idf=True)\n",
    "\n",
    "vetor = tfidf.fit_transform(lista_conteudos)\n",
    "#nomes das características\n",
    "print(tfidf.get_feature_names())\n",
    "# vetor de caractrísticas\n",
    "print(vetor.toarray())"
   ]
  },
  {
   "cell_type": "markdown",
   "metadata": {},
   "source": [
    "# Processamento linguístico"
   ]
  },
  {
   "cell_type": "markdown",
   "metadata": {},
   "source": [
    "## Remover o que não é palavra (considera somente termos com 3 ou mais letras"
   ]
  },
  {
   "cell_type": "code",
   "execution_count": null,
   "metadata": {},
   "outputs": [],
   "source": [
    "# token pattern: termos com letras, com 3 ou mias caracteres\n",
    "tfidf = TfidfVectorizer(binary=False,norm='l1', use_idf=True, token_pattern=r'\\b[a-zA-Z]{3,}\\b')\n",
    "vetor = tfidf.fit_transform(lista_conteudos)\n",
    "#nomes das características\n",
    "print(tfidf.get_feature_names())\n",
    "# vetor de caractrísticas\n",
    "print(vetor.toarray())"
   ]
  },
  {
   "cell_type": "markdown",
   "metadata": {},
   "source": [
    "## remover stopwords"
   ]
  },
  {
   "cell_type": "code",
   "execution_count": 12,
   "metadata": {},
   "outputs": [],
   "source": [
    "# ler arquivo com stopwords e transforma em uma lista\n",
    "stopwords = []\n",
    "with open('stopwords.txt','r', encoding='utf-8') as s:\n",
    "    stopwords = s.read().split('\\n')"
   ]
  },
  {
   "cell_type": "code",
   "execution_count": null,
   "metadata": {},
   "outputs": [],
   "source": [
    "tfidf = TfidfVectorizer(binary=False,norm='l1', use_idf=True, token_pattern=r'\\b[a-zA-Z]{3,}\\b', stop_words=stopwords)\n",
    "vetor = tfidf.fit_transform(lista_conteudos)\n",
    "#nomes das características\n",
    "print(tfidf.get_feature_names())\n",
    "# vetor de caractrísticas\n",
    "print(vetor.toarray())"
   ]
  },
  {
   "cell_type": "markdown",
   "metadata": {},
   "source": [
    "## executar stemmer"
   ]
  },
  {
   "cell_type": "code",
   "execution_count": 11,
   "metadata": {},
   "outputs": [],
   "source": [
    "# método para fazer o stemmer\n",
    "def stemmer(doc):\n",
    "    stemmer = nltk.stem.RSLPStemmer()\n",
    "    return ' '.join([stemmer.stem(t) for t in nltk.word_tokenize(doc)])"
   ]
  },
  {
   "cell_type": "code",
   "execution_count": null,
   "metadata": {},
   "outputs": [],
   "source": [
    "tfidf = TfidfVectorizer(binary=False,norm='l1', use_idf=True, token_pattern=r'\\b[a-zA-Z]{3,}\\b', stop_words=stopwords, preprocessor=stemmer)\n",
    "vetor = tfidf.fit_transform(lista_conteudos)\n",
    "#nomes das características\n",
    "print(tfidf.get_feature_names())\n",
    "# vetor de caractrísticas\n",
    "print(vetor.toarray())"
   ]
  },
  {
   "cell_type": "markdown",
   "metadata": {},
   "source": [
    "# Classificação"
   ]
  },
  {
   "cell_type": "code",
   "execution_count": 87,
   "metadata": {},
   "outputs": [
    {
     "data": {
      "text/plain": [
       "0.9642857142857143"
      ]
     },
     "execution_count": 87,
     "metadata": {},
     "output_type": "execute_result"
    }
   ],
   "source": [
    "def extrai_texto(conteudo, filtro) :\n",
    "    bsObj =  BeautifulSoup(conteudo_html, \"html.parser\")\n",
    "    for remove in bsObj([\"script\", \"style\"]): remove.extract()\n",
    "    return bsObj(attrs=filtro)[0].get_text(separator=\" \")\n",
    "\n",
    "map_content = {'agricultura':{'class':'visualiza-noticia'},\n",
    "               'cti':{'id':'layout-column_column-2'}, \n",
    "               'cultura':{'class':'journal-content-article'}, \n",
    "               'esportes':{'class':'item-page'}\n",
    "              }\n",
    "from random import randint\n",
    "# abrir arquivos\n",
    "textos = []\n",
    "categorias = []\n",
    "for pasta in os.listdir('noticias'):    \n",
    "    for arquivo in os.listdir('noticias/'+pasta):\n",
    "        with open('noticias/'+pasta+'/'+arquivo, 'r', encoding=\"ansi\") as arq:\n",
    "           # print(arquivo)\n",
    "            conteudo_html = html.unescape(arq.read())\n",
    "            conteudo = extrai_texto(conteudo_html, map_content[pasta])\n",
    "            textos.append(conteudo)\n",
    "            categorias.append(pasta)\n",
    "            \n",
    "\n",
    "\n",
    "tfidf = TfidfVectorizer(binary=False,norm='l1', use_idf=True, token_pattern=r'\\b[a-zA-Z]{3,}\\b', stop_words=stopwords, preprocessor=stemmer)\n",
    "vetor = tfidf.fit_transform(textos)\n",
    "x = vetor.toarray()\n",
    "y = categorias\n",
    "\n",
    "dtree = tree.DecisionTreeClassifier(criterion='entropy')\n",
    "\n",
    "# validação treino/teste\n",
    "x_train, x_test, y_train, y_test = train_test_split(x, y, test_size = 0.3) \n",
    "dtree.fit(x_train, y_train)\n",
    "\n",
    "y_predict = dtree.predict(x_test)\n",
    "acuracia = accuracy_score(y_test, y_predict)\n",
    "acuracia    \n",
    "    "
   ]
  },
  {
   "cell_type": "markdown",
   "metadata": {},
   "source": [
    "# Cross validation"
   ]
  },
  {
   "cell_type": "code",
   "execution_count": 96,
   "metadata": {},
   "outputs": [
    {
     "name": "stdout",
     "output_type": "stream",
     "text": [
      "['CTI', 'agricultura', 'cultura', 'esportes']\n",
      "[90  0  0  0]\n",
      "[ 0 95  4  0]\n",
      "[ 0  1 59  0]\n",
      "[ 1  0  0 29]\n",
      "precisão: [0.98901099 0.98958333 0.93650794 1.        ]; revocação: [1.         0.95959596 0.98333333 0.96666667]; fscore: [0.99447514 0.97435897 0.95934959 0.98305085]; acurácia: 0.978494623655914\n"
     ]
    }
   ],
   "source": [
    "y_pred = cross_val_predict(dtree, x, y, cv=10)\n",
    "acuracia = accuracy_score(y, y_pred)\n",
    "# precisao e revocacao\n",
    "pr = precision_recall_fscore_support(y, y_pred)\n",
    "# matriz de confusão\n",
    "cf = confusion_matrix(y,y_pred)\n",
    "# mostrar matrix\n",
    "classes =sorted(set(y))\n",
    "print(classes)\n",
    "for i, c in enumerate(cf):\n",
    "    print(c)\n",
    "print('precisão: {}; revocação: {}; fscore: {}; acurácia: {}'.format(pr[0], pr[1], pr[2], acuracia))\n",
    "#acc"
   ]
  },
  {
   "cell_type": "code",
   "execution_count": null,
   "metadata": {},
   "outputs": [],
   "source": []
  }
 ],
 "metadata": {
  "kernelspec": {
   "display_name": "Python 3",
   "language": "python",
   "name": "python3"
  },
  "language_info": {
   "codemirror_mode": {
    "name": "ipython",
    "version": 3
   },
   "file_extension": ".py",
   "mimetype": "text/x-python",
   "name": "python",
   "nbconvert_exporter": "python",
   "pygments_lexer": "ipython3",
   "version": "3.6.5"
  }
 },
 "nbformat": 4,
 "nbformat_minor": 2
}
