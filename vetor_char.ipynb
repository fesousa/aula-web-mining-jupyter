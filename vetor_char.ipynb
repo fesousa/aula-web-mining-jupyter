{
 "cells": [
  {
   "cell_type": "markdown",
   "metadata": {},
   "source": [
    "# Extração do vetor de características\n",
    "## Tokenização e contagem de palavras"
   ]
  },
  {
   "cell_type": "code",
   "execution_count": null,
   "metadata": {},
   "outputs": [],
   "source": [
    "# importaçÕes necessárias\n",
    "import os\n",
    "import nltk\n",
    "from sklearn.feature_extraction.text import TfidfVectorizer\n",
    "import html\n",
    "from bs4 import BeautifulSoup"
   ]
  },
  {
   "cell_type": "code",
   "execution_count": null,
   "metadata": {},
   "outputs": [],
   "source": [
    "# instalar stemmer português no nltk\n",
    "nltk.download('rslp')\n",
    "nltk.download('punkt')"
   ]
  },
  {
   "cell_type": "code",
   "execution_count": null,
   "metadata": {},
   "outputs": [],
   "source": [
    "# função para ler os arquivos e retornar em uma lista\n",
    "def retorna_conteudo(pasta):\n",
    "    lista_conteudos = []\n",
    "    for arquivo in os.listdir(os.getcwd()+'/'+pasta):\n",
    "        with open(pasta+'/'+arquivo, 'r', encoding=\"utf8\") as arq:\n",
    "            lista_conteudos.append(arq.read())\n",
    "    return lista_conteudos"
   ]
  },
  {
   "cell_type": "code",
   "execution_count": null,
   "metadata": {},
   "outputs": [],
   "source": [
    "lista_conteudos = retorna_conteudo('wikis_text')"
   ]
  },
  {
   "cell_type": "code",
   "execution_count": null,
   "metadata": {},
   "outputs": [],
   "source": [
    "# extrair contagem de palavras com a configuração padrão\n",
    "# extrair ocorrência binária\n",
    "contagem = TfidfVectorizer()\n",
    "\n",
    "vetor = contagem.fit_transform(lista_conteudos)\n",
    "#nomes das características\n",
    "print(contagem.get_feature_names())\n",
    "# vetor de características\n",
    "print(vetor.toarray())"
   ]
  },
  {
   "cell_type": "code",
   "execution_count": null,
   "metadata": {},
   "outputs": [],
   "source": [
    "# extrair ocorrência binária\n",
    "bo = TfidfVectorizer(binary=True, norm=None, use_idf=False)\n",
    "\n",
    "vetor = bo.fit_transform(lista_conteudos)\n",
    "#nomes das características\n",
    "print(bo.get_feature_names())\n",
    "# vetor de características\n",
    "print(vetor.toarray())"
   ]
  },
  {
   "cell_type": "code",
   "execution_count": null,
   "metadata": {},
   "outputs": [],
   "source": [
    "# extrair com ocorrência dos termos\n",
    "to = TfidfVectorizer(binary=False, norm=None, use_idf=False)\n",
    "\n",
    "vetor = to.fit_transform(lista_conteudos)\n",
    "#nomes das características\n",
    "print(to.get_feature_names())\n",
    "# vetor de características\n",
    "print(vetor.toarray())"
   ]
  },
  {
   "cell_type": "code",
   "execution_count": null,
   "metadata": {},
   "outputs": [],
   "source": [
    "# extrair com tf\n",
    "tf = TfidfVectorizer(binary=False,norm='l1', use_idf=False)\n",
    "\n",
    "vetor = tf.fit_transform(lista_conteudos)\n",
    "#nomes das características\n",
    "print(tf.get_feature_names())\n",
    "# vetor de características\n",
    "print(vetor.toarray())"
   ]
  },
  {
   "cell_type": "code",
   "execution_count": null,
   "metadata": {},
   "outputs": [],
   "source": [
    "# extrair com tf.idf\n",
    "tfidf = TfidfVectorizer(binary=False,norm='l1', use_idf=True)\n",
    "\n",
    "vetor = tfidf.fit_transform(lista_conteudos)\n",
    "#nomes das características\n",
    "print(tfidf.get_feature_names())\n",
    "# vetor de características\n",
    "print(vetor.toarray())"
   ]
  },
  {
   "cell_type": "markdown",
   "metadata": {},
   "source": [
    "# Processamento linguístico"
   ]
  },
  {
   "cell_type": "markdown",
   "metadata": {},
   "source": [
    "## Remover o que não é palavra (considera somente termos com 3 ou mais letras"
   ]
  },
  {
   "cell_type": "code",
   "execution_count": null,
   "metadata": {},
   "outputs": [],
   "source": [
    "# token pattern: termos com letras, com 3 ou mias caracteres\n",
    "tfidf = TfidfVectorizer(binary=False,norm='l1', use_idf=True, token_pattern=r'\\b[a-zA-Z]{3,}\\b')\n",
    "vetor = tfidf.fit_transform(lista_conteudos)\n",
    "#nomes das características\n",
    "print(tfidf.get_feature_names())\n",
    "# vetor de características\n",
    "print(vetor.toarray())"
   ]
  },
  {
   "cell_type": "markdown",
   "metadata": {},
   "source": [
    "## remover stopwords"
   ]
  },
  {
   "cell_type": "code",
   "execution_count": null,
   "metadata": {},
   "outputs": [],
   "source": [
    "# ler arquivo com stopwords e transforma em uma lista\n",
    "stopwords = []\n",
    "with open('stopwords.txt','r', encoding='utf-8') as s:\n",
    "    stopwords = s.read().split('\\n')"
   ]
  },
  {
   "cell_type": "code",
   "execution_count": null,
   "metadata": {},
   "outputs": [],
   "source": [
    "tfidf = TfidfVectorizer(binary=False,norm='l1', use_idf=True, token_pattern=r'\\b[a-zA-Z]{3,}\\b', stop_words=stopwords)\n",
    "vetor = tfidf.fit_transform(lista_conteudos)\n",
    "#nomes das características\n",
    "print(tfidf.get_feature_names())\n",
    "# vetor de características\n",
    "print(vetor.toarray())"
   ]
  },
  {
   "cell_type": "markdown",
   "metadata": {},
   "source": [
    "## executar stemmer"
   ]
  },
  {
   "cell_type": "code",
   "execution_count": null,
   "metadata": {},
   "outputs": [],
   "source": [
    "# método para fazer o stemmer\n",
    "def stemmer(doc):\n",
    "    stemmer = nltk.stem.RSLPStemmer()\n",
    "    return ' '.join([stemmer.stem(t) for t in nltk.word_tokenize(doc)])"
   ]
  },
  {
   "cell_type": "code",
   "execution_count": null,
   "metadata": {},
   "outputs": [],
   "source": [
    "tfidf = TfidfVectorizer(binary=False,norm='l1', use_idf=True, token_pattern=r'\\b[a-zA-Z]{3,}\\b', stop_words=stopwords, preprocessor=stemmer)\n",
    "vetor = tfidf.fit_transform(lista_conteudos)\n",
    "#nomes das características\n",
    "print(tfidf.get_feature_names())\n",
    "# vetor de características\n",
    "print(vetor.toarray())"
   ]
  }
 ],
 "metadata": {
  "kernelspec": {
   "display_name": "Python 3",
   "language": "python",
   "name": "python3"
  },
  "language_info": {
   "codemirror_mode": {
    "name": "ipython",
    "version": 3
   },
   "file_extension": ".py",
   "mimetype": "text/x-python",
   "name": "python",
   "nbconvert_exporter": "python",
   "pygments_lexer": "ipython3",
   "version": "3.6.5"
  }
 },
 "nbformat": 4,
 "nbformat_minor": 2
}
