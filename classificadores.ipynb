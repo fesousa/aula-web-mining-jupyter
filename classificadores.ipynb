{
 "cells": [
  {
   "cell_type": "code",
   "execution_count": 10,
   "metadata": {},
   "outputs": [
    {
     "name": "stdout",
     "output_type": "stream",
     "text": [
      "  02/06/2015 09:45   Comércio bilateral   Arábia Saudita avalia reabertura do mercado à carne bovina brasileira Técnicos sauditas estão no Brasil para visitar frigoríficos e fazendas. Eles também analisam a possibilidade de ampliar a compra de aves   \n",
      " Autoridades sanitárias da Arábia Saudita estão, nesta semana, em visita oficial ao Brasil para avaliar a reabertura daquele mercado à carne bovina “in natura” e enlatados brasileiros, inclusive seus derivados, e também para tratar da ampliação da compra de carne de aves. Representantes daquele país se reuniram, nessa segunda-feira (1º), com técnicos do Ministério da Agricultura, Pecuária e Abastecimento (Mapa), e acertaram detalhes do roteiro da visita. A Missão Veterinária da Saudi Food and Drug Authority (SFDA) vai visitar os estados do Pará, de Mato Grosso e Pernambuco para avaliar a atual condição de estabelecimentos de carne bovina. No roteiro, estão previstas visitas a duas fazendas, um laboratório e seis frigoríficos. A SFDA também irá visitar seis estabelecimentos de produção de aves, um laboratório e uma granja, com o objetivo de coletar informações e avaliar o controle oficial brasileiro em relação à exportação de carne de aves para a Arábia Saudita. No fim da próxima semana, as autoridades sauditas vão se reunir novamente com técnicos do Mapa para tratar da reabertura daquele mercado ao Brasil. Mais informações para a imprensa: Assessoria de Comunicação Social Maycon Fidalgo maycon.fidalgo@agricultura.gov.br (61) 3218-3085   \n",
      "\n"
     ]
    }
   ],
   "source": [
    "import os\n",
    "import html\n",
    "from bs4 import BeautifulSoup\n",
    "\n",
    "def extrai_texto(conteudo, filtro) :\n",
    "    bsObj =  BeautifulSoup(conteudo_html, \"html.parser\")\n",
    "    for remove in bsObj([\"script\", \"style\"]): remove.extract()\n",
    "    return bsObj(attrs=filtro)[0].get_text(separator=\" \")\n",
    "\n",
    "map_content = {'agricultura':{'class':'visualiza-noticia'},'CTI':{'id':'layout-column_column-2'}}\n",
    "\n",
    "# abrir arquivos\n",
    "noticias = {}\n",
    "for pasta in os.listdir('noticias'):\n",
    "    conteudos = []\n",
    "    for arquivo in os.listdir('noticias/'+pasta):\n",
    "        with open('noticias/'+pasta+'/'+arquivo, 'r', encoding=\"ansi\") as arq:\n",
    "           # print(arquivo)\n",
    "            conteudo_html = html.unescape(arq.read())\n",
    "            conteudo = extrai_texto(conteudo_html, map_content[pasta])\n",
    "           \n",
    "            conteudos.append(conteudo)\n",
    "    noticias[pasta] = conteudos\n",
    "\n",
    "  \n",
    "# fazer o pré processamento e gerar o vetor de características\n",
    "for k, v in noticias.items():\n",
    "    \n",
    "    "
   ]
  },
  {
   "cell_type": "code",
   "execution_count": null,
   "metadata": {},
   "outputs": [],
   "source": []
  }
 ],
 "metadata": {
  "kernelspec": {
   "display_name": "Python 3",
   "language": "python",
   "name": "python3"
  },
  "language_info": {
   "codemirror_mode": {
    "name": "ipython",
    "version": 3
   },
   "file_extension": ".py",
   "mimetype": "text/x-python",
   "name": "python",
   "nbconvert_exporter": "python",
   "pygments_lexer": "ipython3",
   "version": "3.6.5"
  }
 },
 "nbformat": 4,
 "nbformat_minor": 2
}
