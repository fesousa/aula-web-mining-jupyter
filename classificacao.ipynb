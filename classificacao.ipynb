{
 "cells": [
  {
   "cell_type": "markdown",
   "metadata": {},
   "source": [
    "# Classificação"
   ]
  },
  {
   "cell_type": "code",
   "execution_count": null,
   "metadata": {},
   "outputs": [],
   "source": [
    "import os\n",
    "import html\n",
    "import nltk\n",
    "from bs4 import BeautifulSoup\n",
    "from sklearn.feature_extraction.text import TfidfVectorizer\n",
    "from sklearn import tree, naive_bayes\n",
    "from sklearn.model_selection import train_test_split, cross_val_predict\n",
    "from sklearn.metrics import accuracy_score, precision_recall_fscore_support, confusion_matrix"
   ]
  },
  {
   "cell_type": "code",
   "execution_count": null,
   "metadata": {},
   "outputs": [],
   "source": [
    "# ler arquivo com stopwords e transforma em uma lista\n",
    "stopwords = []\n",
    "with open('stopwords.txt','r', encoding='utf-8') as s:\n",
    "    stopwords = s.read().split('\\n')\n",
    "    \n",
    "# método para fazer o stemmer\n",
    "def stemmer(doc):\n",
    "    stemmer = nltk.stem.RSLPStemmer()\n",
    "    return ' '.join([stemmer.stem(t) for t in nltk.word_tokenize(doc)])"
   ]
  },
  {
   "cell_type": "code",
   "execution_count": null,
   "metadata": {},
   "outputs": [],
   "source": [
    "def extrai_texto(conteudo, filtro) :\n",
    "    bsObj =  BeautifulSoup(conteudo_html, \"html.parser\")\n",
    "    for remove in bsObj([\"script\", \"style\"]): remove.extract()\n",
    "    return bsObj(attrs=filtro)[0].get_text(separator=\" \")\n",
    "\n",
    "map_content = {'agricultura':{'class':'visualiza-noticia'},\n",
    "               'cti':{'id':'layout-column_column-2'}, \n",
    "               'cultura':{'class':'journal-content-article'}, \n",
    "               'esportes':{'class':'item-page'}\n",
    "              }\n",
    "from random import randint\n",
    "# abrir arquivos\n",
    "textos = []\n",
    "categorias = []\n",
    "for pasta in os.listdir('noticias'):    \n",
    "    for arquivo in os.listdir('noticias/'+pasta):\n",
    "        with open('noticias/'+pasta+'/'+arquivo, 'r', encoding=\"ansi\") as arq:\n",
    "           # print(arquivo)\n",
    "            conteudo_html = html.unescape(arq.read())\n",
    "            conteudo = extrai_texto(conteudo_html, map_content[pasta])\n",
    "            textos.append(conteudo)\n",
    "            categorias.append(pasta)\n",
    "            \n",
    "\n",
    "# extrair tf.idf\n",
    "tfidf = TfidfVectorizer(binary=False,norm='l1', use_idf=True, token_pattern=r'\\b[a-zA-Z]{3,}\\b', stop_words=stopwords, preprocessor=stemmer)\n",
    "vetor = tfidf.fit_transform(textos)\n",
    "x = vetor.toarray()\n",
    "y = categorias\n",
    "\n",
    "dtree = tree.DecisionTreeClassifier(criterion='entropy')\n",
    "\n",
    "# validação treino/teste\n",
    "x_train, x_test, y_train, y_test = train_test_split(x, y, test_size = 0.3) \n",
    "dtree.fit(x_train, y_train)\n",
    "\n",
    "y_predict = dtree.predict(x_test)\n",
    "acuracia = accuracy_score(y_test, y_predict)\n",
    "acuracia    \n",
    "    "
   ]
  },
  {
   "cell_type": "markdown",
   "metadata": {},
   "source": [
    "# Cross validation"
   ]
  },
  {
   "cell_type": "code",
   "execution_count": null,
   "metadata": {},
   "outputs": [],
   "source": [
    "y_pred = cross_val_predict(dtree, x, y, cv=10)\n",
    "acuracia = accuracy_score(y, y_pred)\n",
    "# precisao e revocacao\n",
    "pr = precision_recall_fscore_support(y, y_pred)\n",
    "# matriz de confusão\n",
    "cf = confusion_matrix(y,y_pred)\n",
    "# mostrar matrix\n",
    "classes =sorted(set(y))\n",
    "print(classes)\n",
    "for i, c in enumerate(cf):\n",
    "    print(c)\n",
    "print('precisão: {}; revocação: {}; fscore: {}; acurácia: {}'.format(pr[0], pr[1], pr[2], acuracia))"
   ]
  },
  {
   "cell_type": "code",
   "execution_count": null,
   "metadata": {},
   "outputs": [],
   "source": []
  }
 ],
 "metadata": {
  "kernelspec": {
   "display_name": "Python 3",
   "language": "python",
   "name": "python3"
  },
  "language_info": {
   "codemirror_mode": {
    "name": "ipython",
    "version": 3
   },
   "file_extension": ".py",
   "mimetype": "text/x-python",
   "name": "python",
   "nbconvert_exporter": "python",
   "pygments_lexer": "ipython3",
   "version": "3.6.5"
  }
 },
 "nbformat": 4,
 "nbformat_minor": 2
}
