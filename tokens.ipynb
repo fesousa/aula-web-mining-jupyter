{
 "cells": [
  {
   "cell_type": "code",
   "execution_count": 41,
   "metadata": {},
   "outputs": [],
   "source": [
    "#importações\n",
    "import os\n",
    "from bs4 import BeautifulSoup"
   ]
  },
  {
   "cell_type": "code",
   "execution_count": null,
   "metadata": {},
   "outputs": [],
   "source": [
    "# carregar arquivos baixado\n",
    "lista_conteudos = []\n",
    "for arquivo in os.listdir(os.getcwd()+'/wikis'):\n",
    "    with open('wikis/'+arquivo, 'r', encoding=\"utf8\") as arq:\n",
    "        lista_conteudos.append(arq.read())\n",
    "        "
   ]
  },
  {
   "cell_type": "code",
   "execution_count": 39,
   "metadata": {},
   "outputs": [
    {
     "name": "stdout",
     "output_type": "stream",
     "text": [
      "Amido Índice Estrutura[editar | editar código-fonte] Síntese[editar | editar código-fonte] Hidrólise[editar | editar código-fonte] Ocorrência[editar | editar código-fonte] Usos e aplicações[editar | editar código-fonte] Notas e referências Menu de navegação Ferramentas pessoais Domínios Variantes Vistas Mais Busca Navegação Colaboração Imprimir/exportar Noutros projetos Ferramentas Noutras línguas\n"
     ]
    }
   ],
   "source": [
    "# extrair todo o conteúdo textual de marcadores de titulo (h1 até h5)\n",
    "lista_textos = []\n",
    "for c in lista_conteudos:\n",
    "    bsObj = BeautifulSoup(c, \"html.parser\")\n",
    "    titulos = []\n",
    "    for titulo in bsObj([\"h1\", \"h2\", \"h3\", \"h4\", \"h5\"]): \n",
    "        titulos.append(titulo.text)   \n",
    "    lista_textos.append(remove_espacos(' '.join(titulos)))\n",
    "print(lista_textos[1])\n"
   ]
  }
 ],
 "metadata": {
  "kernelspec": {
   "display_name": "Python 3",
   "language": "python",
   "name": "python3"
  },
  "language_info": {
   "codemirror_mode": {
    "name": "ipython",
    "version": 3
   },
   "file_extension": ".py",
   "mimetype": "text/x-python",
   "name": "python",
   "nbconvert_exporter": "python",
   "pygments_lexer": "ipython3",
   "version": "3.6.5"
  }
 },
 "nbformat": 4,
 "nbformat_minor": 2
}
