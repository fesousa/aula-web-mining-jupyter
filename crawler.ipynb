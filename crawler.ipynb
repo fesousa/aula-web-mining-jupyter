{
 "cells": [
  {
   "cell_type": "markdown",
   "metadata": {},
   "source": [
    "# Exemplo de como fazer um crawler utilizando urllib e BeatifulSoup"
   ]
  },
  {
   "cell_type": "markdown",
   "metadata": {},
   "source": [
    "## Importações necessárias"
   ]
  },
  {
   "cell_type": "code",
   "execution_count": 106,
   "metadata": {},
   "outputs": [],
   "source": [
    "# importações\n",
    "from urllib.request import urlopen\n",
    "from urllib.parse import urljoin\n",
    "from bs4 import BeautifulSoup"
   ]
  },
  {
   "cell_type": "markdown",
   "metadata": {},
   "source": [
    "## Capturar conteúdo HTML da página (GET)"
   ]
  },
  {
   "cell_type": "code",
   "execution_count": 107,
   "metadata": {},
   "outputs": [],
   "source": [
    "# fazer GET da página web\n",
    "init = \"https://pt.wikipedia.org/wiki/Cerveja\"\n",
    "get = urlopen(init)\n",
    "# recuperar conteúdo HTML\n",
    "html = get.read()"
   ]
  },
  {
   "cell_type": "code",
   "execution_count": null,
   "metadata": {},
   "outputs": [],
   "source": [
    "# mostrar html\n",
    "html"
   ]
  },
  {
   "cell_type": "markdown",
   "metadata": {},
   "source": [
    "## Procurar por links (marcador <a\\>) no conteúdo da página"
   ]
  },
  {
   "cell_type": "code",
   "execution_count": 108,
   "metadata": {},
   "outputs": [],
   "source": [
    "# criar objeto do BS\n",
    "bsObj = BeautifulSoup(html, \"html.parser\")\n",
    "# encontrar todos os links <a>\n",
    "links_a = bsObj.find_all('a')\n"
   ]
  },
  {
   "cell_type": "code",
   "execution_count": null,
   "metadata": {},
   "outputs": [],
   "source": [
    "# mostral links extraídos\n",
    "links_a"
   ]
  },
  {
   "cell_type": "markdown",
   "metadata": {},
   "source": [
    "## Procurar apenas links com href válidos (não vazios e que não comecem com #)"
   ]
  },
  {
   "cell_type": "code",
   "execution_count": 109,
   "metadata": {},
   "outputs": [],
   "source": [
    "# utilizar beatiful soup para pegar apenas os links válidos\n",
    "# função para verificar se o link é válido (não vazio e não inicia com #)\n",
    "def links_validos(href):\n",
    "    return href and href[0] != '#'\n",
    "# função é enviada como valor do parâmtero href\n",
    "validos = bsObj.find_all('a', href=links_validos)"
   ]
  },
  {
   "cell_type": "code",
   "execution_count": null,
   "metadata": {},
   "outputs": [],
   "source": [
    "validos"
   ]
  },
  {
   "cell_type": "markdown",
   "metadata": {},
   "source": [
    "## Outros exemplos de uso do find_all"
   ]
  },
  {
   "cell_type": "code",
   "execution_count": 110,
   "metadata": {},
   "outputs": [
    {
     "data": {
      "text/plain": [
       "[<a class=\"mw-redirect\" href=\"/wiki/Fermento\" title=\"Fermento\">fermentação</a>,\n",
       " <a class=\"mw-redirect\" href=\"/wiki/Cereais\" title=\"Cereais\">cereais</a>,\n",
       " <a class=\"mw-redirect\" href=\"/wiki/Ser_humano\" title=\"Ser humano\">ser humano</a>,\n",
       " <a class=\"mw-redirect\" href=\"/wiki/Estela_de_Hamurabi\" title=\"Estela de Hamurabi\">Estela de Hamurabi</a>,\n",
       " <a class=\"mw-redirect\" href=\"/wiki/Sum%C3%A9rios\" title=\"Sumérios\">sumérios</a>,\n",
       " <a class=\"mw-redirect\" href=\"/wiki/Eg%C3%ADpcios\" title=\"Egípcios\">egípcios</a>,\n",
       " <a class=\"mw-redirect\" href=\"/wiki/Mesopot%C3%A2mios\" title=\"Mesopotâmios\">mesopotâmios</a>,\n",
       " <a class=\"mw-redirect\" href=\"/wiki/Estela_de_Hamurabi\" title=\"Estela de Hamurabi\">Estela de Hamurabi</a>,\n",
       " <a class=\"mw-redirect\" href=\"/wiki/Hier%C3%B3glifos\" title=\"Hieróglifos\">hieróglifos</a>,\n",
       " <a class=\"mw-redirect\" href=\"/wiki/Amon\" title=\"Amon\">Templo de Amon</a>,\n",
       " <a class=\"mw-redirect\" href=\"/wiki/Era_Viquingue\" title=\"Era Viquingue\">Era Viquingue</a>,\n",
       " <a class=\"mw-redirect\" href=\"/wiki/L%C3%ADngua_eslava\" title=\"Língua eslava\">eslavo</a>,\n",
       " <a class=\"mw-redirect\" href=\"/wiki/Poema_%C3%A9pico\" title=\"Poema épico\">poema épico</a>,\n",
       " <a class=\"mw-redirect\" href=\"/wiki/Ovo_de_p%C3%A1scoa\" title=\"Ovo de páscoa\">ovo de páscoa</a>,\n",
       " <a class=\"mw-redirect\" href=\"/wiki/Joan_Corominas\" title=\"Joan Corominas\">Joan Corominas</a>,\n",
       " <a class=\"mw-redirect\" href=\"/wiki/L%C3%ADngua_celta\" title=\"Língua celta\">língua celta</a>,\n",
       " <a class=\"mw-redirect\" href=\"/wiki/L%C3%ADngua_ga%C3%A9lica\" title=\"Língua gaélica\">gaélico</a>,\n",
       " <a class=\"mw-redirect\" href=\"/wiki/Milheto\" title=\"Milheto\">milheto</a>,\n",
       " <a class=\"mw-redirect\" href=\"/wiki/Bohemian_Pilsner\" title=\"Bohemian Pilsner\">Bohemian Pilsner</a>,\n",
       " <a class=\"mw-redirect\" href=\"/wiki/Humulus_lupulus\" title=\"Humulus lupulus\">Humulus lupulus</a>,\n",
       " <a class=\"mw-redirect\" href=\"/wiki/Dioica\" title=\"Dioica\">dioica</a>,\n",
       " <a class=\"mw-redirect\" href=\"/wiki/Weissbier\" title=\"Weissbier\">weissbier</a>,\n",
       " <a class=\"mw-redirect\" href=\"/wiki/Weissbier\" title=\"Weissbier\">weissbier</a>,\n",
       " <a class=\"mw-redirect\" href=\"/wiki/Graus_Celsius\" title=\"Graus Celsius\">graus Celsius</a>,\n",
       " <a class=\"mw-redirect\" href=\"/wiki/Bact%C3%A9ria_Gram-positiva\" title=\"Bactéria Gram-positiva\">bactéria Gram-positiva</a>,\n",
       " <a class=\"mw-redirect\" href=\"/wiki/Anaer%C3%B3bica\" title=\"Anaeróbica\">anaeróbicas</a>,\n",
       " <a class=\"mw-redirect\" href=\"/wiki/Cerveja_bock\" title=\"Cerveja bock\">Bock</a>,\n",
       " <a class=\"mw-redirect\" href=\"/wiki/Cerveja_Ale\" title=\"Cerveja Ale\">Cerveja Ale</a>,\n",
       " <a class=\"mw-redirect\" href=\"/wiki/%C3%89steres\" title=\"Ésteres\">ésteres</a>,\n",
       " <a class=\"mw-redirect\" href=\"/wiki/German_Pilsner\" title=\"German Pilsner\">German Pilsner</a>,\n",
       " <a class=\"mw-redirect\" href=\"/wiki/Bohemian_Pilsner\" title=\"Bohemian Pilsner\">Bohemian Pilsner</a>,\n",
       " <a class=\"mw-redirect\" href=\"/wiki/Traditional_Bock\" title=\"Traditional Bock\">Traditional Bock</a>,\n",
       " <a class=\"mw-redirect\" href=\"/wiki/India_Pale_Ale\" title=\"India Pale Ale\">India Pale Ale</a>,\n",
       " <a class=\"mw-redirect\" href=\"/wiki/Dry_Stout\" title=\"Dry Stout\">Dry Stout</a>,\n",
       " <a class=\"mw-redirect\" href=\"/wiki/Oatmeal_Stout\" title=\"Oatmeal Stout\">Oatmeal Stout</a>,\n",
       " <a class=\"mw-redirect\" href=\"/wiki/Himalaya\" title=\"Himalaya\">Himalayas</a>,\n",
       " <a class=\"mw-redirect\" href=\"/wiki/German_Pilsner\" title=\"German Pilsner\">German Pilsner</a>,\n",
       " <a class=\"mw-redirect\" href=\"/wiki/Weissbier\" title=\"Weissbier\">Weissbier</a>,\n",
       " <a class=\"mw-redirect\" href=\"/wiki/Dry_Stout\" title=\"Dry Stout\">Dry Stout</a>,\n",
       " <a class=\"mw-redirect\" href=\"/wiki/EBC\" title=\"EBC\">EBC</a>,\n",
       " <a class=\"mw-redirect\" href=\"/wiki/SRM\" title=\"SRM\">SRM</a>,\n",
       " <a class=\"mw-redirect\" href=\"/wiki/Transpar%C3%AAncia_(%C3%B3ptica)\" title=\"Transparência (óptica)\">transparentes</a>,\n",
       " <a class=\"mw-redirect\" href=\"/wiki/%C3%89steres\" title=\"Ésteres\">ésteres</a>,\n",
       " <a class=\"mw-redirect\" href=\"/wiki/Refrat%C3%B4metro\" title=\"Refratômetro\">refratômetro</a>,\n",
       " <a class=\"mw-redirect\" href=\"/wiki/Baum%C3%A9\" title=\"Baumé\">Baumé</a>,\n",
       " <a class=\"mw-redirect\" href=\"/wiki/Brix\" title=\"Brix\">Brix</a>,\n",
       " <a class=\"mw-redirect\" href=\"/wiki/Irlanda\" title=\"Irlanda\">Irlanda</a>,\n",
       " <a class=\"mw-redirect\" href=\"/wiki/Pilsen\" title=\"Pilsen\">Pilsen</a>,\n",
       " <a class=\"mw-redirect\" href=\"/wiki/Bohemian_Pilsner\" title=\"Bohemian Pilsner\">Bohemian Pilsner</a>,\n",
       " <a class=\"mw-redirect\" href=\"/wiki/German_Pilsner\" title=\"German Pilsner\">German Pilsner</a>,\n",
       " <a class=\"mw-redirect\" href=\"/wiki/Weissbier\" title=\"Weissbier\">Weissbier</a>,\n",
       " <a class=\"mw-redirect\" href=\"/wiki/Universidade_de_Harvard\" title=\"Universidade de Harvard\">Universidade de Harvard</a>,\n",
       " <a class=\"mw-redirect\" href=\"/wiki/HDL\" title=\"HDL\">HDL</a>,\n",
       " <a class=\"mw-redirect\" href=\"/wiki/Publicidade_de_cerveja\" title=\"Publicidade de cerveja\">Publicidade de cerveja</a>,\n",
       " <a class=\"mw-redirect\" href=\"/wiki/Embriaguez\" title=\"Embriaguez\">Embriaguez</a>,\n",
       " <a class=\"mw-redirect\" href=\"/wiki/Palma_de_Mallorca\" title=\"Palma de Mallorca\">Palma de Mallorca</a>,\n",
       " <a class=\"mw-redirect\" href=\"/wiki/%C3%81lcool_et%C3%ADlico\" title=\"Álcool etílico\">Álcool etílico</a>,\n",
       " <a class=\"mw-redirect\" href=\"/wiki/Raki\" title=\"Raki\">Raki</a>,\n",
       " <a class=\"mw-redirect\" href=\"/wiki/Embriaguez\" title=\"Embriaguez\">Embriaguez</a>,\n",
       " <a class=\"mw-redirect\" href=\"/wiki/Wikip%C3%A9dia:Sobre\" title=\"Wikipédia:Sobre\">Sobre a Wikipédia</a>]"
      ]
     },
     "execution_count": 110,
     "metadata": {},
     "output_type": "execute_result"
    }
   ],
   "source": [
    "# procurar links com filtro do atributo class\n",
    "filtro_classe = bsObj.find_all('a', attrs={'class':'mw-redirect'})\n",
    "filtro_classe"
   ]
  },
  {
   "cell_type": "code",
   "execution_count": null,
   "metadata": {},
   "outputs": [],
   "source": [
    "# procurar links com filtro do atributo class e title\n",
    "filtro_classe_titulo = bsObj.find_all('a', attrs={'class':'mw-redirect', 'title':'Pilsen'})\n",
    "filtro_classe_titulo"
   ]
  },
  {
   "cell_type": "code",
   "execution_count": null,
   "metadata": {},
   "outputs": [],
   "source": [
    "# procurar links com recursive = False\n",
    "filtro_recursive = bsObj.find_all('a', recursive=False)\n",
    "filtro_recursive"
   ]
  },
  {
   "cell_type": "code",
   "execution_count": null,
   "metadata": {},
   "outputs": [],
   "source": [
    "# procurar links com texto Pilsen\n",
    "filtro_string = bsObj.find_all('a', string='Pilsen')\n",
    "filtro_string"
   ]
  },
  {
   "cell_type": "code",
   "execution_count": null,
   "metadata": {},
   "outputs": [],
   "source": [
    "# procurar links utilizando **kwargs\n",
    "filtro_classe = bsObj.find_all('a', class_='mw-redirect')\n",
    "filtro_classe_titulo = bsObj.find_all('a', class_='mw-redirect', title='Pilsen')\n",
    "filtro_classe, filtro_classe_titulo\n"
   ]
  },
  {
   "cell_type": "code",
   "execution_count": null,
   "metadata": {},
   "outputs": [],
   "source": [
    "# procurar por elementos do tipo span com classe mw-headline\n",
    "filtro_span = bsObj.find_all('span', class_='mw-headline')\n",
    "# procurar por qualquer elemento que contenha o texto cerveja\n",
    "# retorna apenas o texto, e não o elemento\n",
    "import re\n",
    "filtro_cerveja = bsObj.find_all(string=re.compile('cerveja',re.IGNORECASE))\n",
    "filtro_span, filtro_cerveja"
   ]
  },
  {
   "cell_type": "markdown",
   "metadata": {},
   "source": [
    "## Extrair os atributos href dos links HTML e transformar nos endereços completos"
   ]
  },
  {
   "cell_type": "code",
   "execution_count": 111,
   "metadata": {},
   "outputs": [],
   "source": [
    "# retornar apenas atributo href (onde está o link)\n",
    "# e transformar no endereço completo utilizando urljoin \n",
    "# urljoin mescla dois links\n",
    "# se for um link para outro endereço, utiliza apenas o novo link\n",
    "# se for um link para o mesmo endereço, junta o endereço base com o link\n",
    "# exemplo: urljoin(\"https://pt.wikipedia.org/wiki/Cerveja\", \"/wiki/Bebida\") --> https://pt.wikipedia.org/wiki/Bebida\n",
    "# exemplo: urljoin(\"https://pt.wikipedia.org/wiki/Cerveja\", \"http://google.com\") --> http://google.com\n",
    "enderecos = [urljoin(init, l.get('href')) for l in links_a]"
   ]
  },
  {
   "cell_type": "code",
   "execution_count": null,
   "metadata": {},
   "outputs": [],
   "source": [
    "# mostrar endereços dos links\n",
    "enderecos"
   ]
  },
  {
   "cell_type": "code",
   "execution_count": 112,
   "metadata": {},
   "outputs": [],
   "source": [
    "# apenas endereços que comecem com https://pt.wikipedia.org/wiki/\n",
    "enderecos = [e for e in enderecos if e.startswith('https://pt.wikipedia.org/wiki')]"
   ]
  },
  {
   "cell_type": "code",
   "execution_count": null,
   "metadata": {},
   "outputs": [],
   "source": [
    "enderecos"
   ]
  },
  {
   "cell_type": "markdown",
   "metadata": {},
   "source": [
    "## Percorrer lista de links para armazenar o conteúdo\n",
    "## exemplo para os 10 primeiros links da lista"
   ]
  },
  {
   "cell_type": "code",
   "execution_count": 113,
   "metadata": {},
   "outputs": [],
   "source": [
    "# percorrer os 10 primeiros links para fazer fazer o GET e adicionar em uma lista\n",
    "lista_html = []\n",
    "for e in enderecos_wiki[:10]:\n",
    "    # retorna um objeto HTTPResponse\n",
    "    get = urlopen(str(e))\n",
    "    # retorna o conteudo html\n",
    "    html = get.read()\n",
    "    # coloca em uma lista\n",
    "    lista_html.append(html)"
   ]
  },
  {
   "cell_type": "code",
   "execution_count": null,
   "metadata": {},
   "outputs": [],
   "source": [
    "# quantidade de páginas retornadas\n",
    "lista_html"
   ]
  },
  {
   "cell_type": "markdown",
   "metadata": {},
   "source": [
    "## Salvar lista de conteúdos em arquivos"
   ]
  },
  {
   "cell_type": "code",
   "execution_count": null,
   "metadata": {},
   "outputs": [],
   "source": [
    "# salvar html em um arquivos\n",
    "for i,h in enumerate(lista_html):\n",
    "    with open('pagina_'+str(i)+'.txt','wb') as file:\n",
    "        file.write(h)"
   ]
  },
  {
   "cell_type": "markdown",
   "metadata": {},
   "source": [
    "# Juntando tudo: crawler para recuperar páginas da wikipedia com tamanho máximo de páginas"
   ]
  },
  {
   "cell_type": "code",
   "execution_count": 129,
   "metadata": {},
   "outputs": [],
   "source": [
    "# função para encontrar os links\n",
    "def busca_links(conteudo, link):\n",
    "    links = BeautifulSoup(conteudo, \"html.parser\").find_all('a', href=links_validos)\n",
    "    # retorna o link absoluto\n",
    "    links = [wiki for wiki in [urljoin(init, l.get('href')) for l in links] if wiki.startswith('https://pt.wikipedia.org/wiki') ]\n",
    "    return links"
   ]
  },
  {
   "cell_type": "code",
   "execution_count": 130,
   "metadata": {},
   "outputs": [],
   "source": [
    "# função para salvar link em um arquivo\n",
    "def salva_arquivo(nome, conteudo):\n",
    "    with open('wikis/'+nome,'wb') as file:\n",
    "        file.write(conteudo)"
   ]
  },
  {
   "cell_type": "code",
   "execution_count": 131,
   "metadata": {},
   "outputs": [],
   "source": [
    "# função para fazer o get\n",
    "def crawler(init, max = 10):\n",
    "    buscar = set([init])\n",
    "    buscados = set()\n",
    "    contador = 1\n",
    "    while buscar and contador <= max:\n",
    "        # remove último elemento do vetor\n",
    "        link = buscar.pop()\n",
    "        if link not in buscados:\n",
    "            print(link)\n",
    "            try:                \n",
    "                \n",
    "                conteudo = urlopen(link).read()\n",
    "                salva_arquivo('wiki'+str(contador)+'.txt', conteudo)\n",
    "                contador += 1            \n",
    "                novos_links = busca_links(conteudo, link)\n",
    "                # atualiza lista para buscar com novos links.\n",
    "                # o método update do set desconsidera os repetidos os repetidos\n",
    "                buscar.update(novos_links)\n",
    "                buscados.add(link)\n",
    "            except Exception as ex:\n",
    "                print(ex)\n",
    "                pass\n",
    "  "
   ]
  },
  {
   "cell_type": "code",
   "execution_count": 132,
   "metadata": {},
   "outputs": [
    {
     "name": "stdout",
     "output_type": "stream",
     "text": [
      "https://pt.wikipedia.org/wiki/Cerveja\n",
      "https://pt.wikipedia.org/wiki/T%C3%A1cito\n",
      "https://pt.wikipedia.org/wiki/Categoria:!CS1_manut:_Nomes_m%C3%BAltiplos:_lista_de_autores\n",
      "https://pt.wikipedia.org/wiki/Cl%C3%A1udio\n",
      "https://pt.wikipedia.org/wiki/Categoria:Oradores_da_Roma_Antiga\n",
      "https://pt.wikipedia.org/wiki/Aaron_Eckhart\n",
      "https://pt.wikipedia.org/wiki/Tib%C3%A9rio_Cl%C3%A1udio_C%C3%A9sar_Brit%C3%A2nico\n",
      "https://pt.wikipedia.org/wiki/L%C3%BAcio_Dom%C3%ADcio_Apolin%C3%A1rio\n",
      "https://pt.wikipedia.org/wiki/Box_Office_Mojo\n",
      "https://pt.wikipedia.org/wiki/Amido\n"
     ]
    }
   ],
   "source": [
    "# executar crawler\n",
    "init = 'https://pt.wikipedia.org/wiki/Cerveja'\n",
    "r = busca_pagina(init, max = 10)"
   ]
  },
  {
   "cell_type": "code",
   "execution_count": null,
   "metadata": {},
   "outputs": [],
   "source": []
  }
 ],
 "metadata": {
  "kernelspec": {
   "display_name": "Python 3",
   "language": "python",
   "name": "python3"
  },
  "language_info": {
   "codemirror_mode": {
    "name": "ipython",
    "version": 3
   },
   "file_extension": ".py",
   "mimetype": "text/x-python",
   "name": "python",
   "nbconvert_exporter": "python",
   "pygments_lexer": "ipython3",
   "version": "3.6.5"
  }
 },
 "nbformat": 4,
 "nbformat_minor": 2
}
