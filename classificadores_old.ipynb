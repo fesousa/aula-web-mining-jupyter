{
 "cells": [
  {
   "cell_type": "code",
   "execution_count": null,
   "metadata": {},
   "outputs": [],
   "source": [
    "import os\n",
    "import html\n",
    "from bs4 import BeautifulSoup\n",
    "\n",
    "def extrai_texto(conteudo, filtro) :\n",
    "    bsObj =  BeautifulSoup(conteudo_html, \"html.parser\")\n",
    "    for remove in bsObj([\"script\", \"style\"]): remove.extract()\n",
    "    return bsObj(attrs=filtro)[0].get_text(separator=\" \")\n",
    "\n",
    "map_content = {'agricultura':{'class':'visualiza-noticia'},'CTI':{'id':'layout-column_column-2'}}\n",
    "\n",
    "# abrir arquivos\n",
    "noticias = {}\n",
    "for pasta in os.listdir('noticias'):\n",
    "    conteudos = []\n",
    "    for arquivo in os.listdir('noticias/'+pasta):\n",
    "        with open('noticias/'+pasta+'/'+arquivo, 'r', encoding=\"ansi\") as arq:\n",
    "           # print(arquivo)\n",
    "            conteudo_html = html.unescape(arq.read())\n",
    "            conteudo = extrai_texto(conteudo_html, map_content[pasta])\n",
    "           \n",
    "            conteudos.append(conteudo)\n",
    "    noticias[pasta] = conteudos\n",
    "\n",
    "  \n",
    "# fazer o pré processamento e gerar o vetor de características\n",
    "for k, v in noticias.items():\n",
    "    \n",
    "    "
   ]
  },
  {
   "cell_type": "code",
   "execution_count": null,
   "metadata": {},
   "outputs": [],
   "source": []
  }
 ],
 "metadata": {
  "kernelspec": {
   "display_name": "Python 3",
   "language": "python",
   "name": "python3"
  },
  "language_info": {
   "codemirror_mode": {
    "name": "ipython",
    "version": 3
   },
   "file_extension": ".py",
   "mimetype": "text/x-python",
   "name": "python",
   "nbconvert_exporter": "python",
   "pygments_lexer": "ipython3",
   "version": "3.6.5"
  }
 },
 "nbformat": 4,
 "nbformat_minor": 2
}
